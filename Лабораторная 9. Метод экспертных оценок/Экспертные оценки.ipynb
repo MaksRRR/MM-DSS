{
 "cells": [
  {
   "cell_type": "code",
   "execution_count": 16,
   "id": "97f9c8e6",
   "metadata": {},
   "outputs": [],
   "source": [
    "import numpy as np "
   ]
  },
  {
   "cell_type": "markdown",
   "id": "a818df3b",
   "metadata": {},
   "source": [
    "# Чтение файла"
   ]
  },
  {
   "cell_type": "code",
   "execution_count": 17,
   "id": "4062352a",
   "metadata": {},
   "outputs": [
    {
     "name": "stdout",
     "output_type": "stream",
     "text": [
      "[[1.0, 2.0, 3.5, 3.0, 4.0], [2.5, 2.0, 1.5, 2.0, 1.0], [2.5, 2.0, 3.0, 1.0, 2.0], [4.0, 3.5, 3.5, 4.0, 1.0]]\n"
     ]
    }
   ],
   "source": [
    "with open('m.txt') as f:\n",
    "    matrix = [list(map(float, row.split())) for row in f.readlines()]\n",
    "print(matrix)"
   ]
  },
  {
   "cell_type": "markdown",
   "id": "1d0ea766",
   "metadata": {},
   "source": [
    "# Расчет оценок"
   ]
  },
  {
   "cell_type": "code",
   "execution_count": 24,
   "id": "2948f3da",
   "metadata": {},
   "outputs": [],
   "source": [
    "def b_c(matrix):\n",
    "    matrix = np.array(matrix)\n",
    "    B = matrix@matrix.T\n",
    "    C = matrix.T@matrix\n",
    "    return B, C"
   ]
  },
  {
   "cell_type": "code",
   "execution_count": 19,
   "id": "8da5dfdf",
   "metadata": {},
   "outputs": [],
   "source": [
    "def make_val(matrix):\n",
    "    product = np.prod(matrix, axis=0)\n",
    "    result = np.power(product, 1/matrix.shape[1])\n",
    "    return result / np.sum(result)"
   ]
  },
  {
   "cell_type": "code",
   "execution_count": 26,
   "id": "ec07fd3d",
   "metadata": {},
   "outputs": [],
   "source": [
    "def exp_val(matrix):\n",
    "    B, C = b_c(matrix)\n",
    "    print('Обобщенные оценки: ', make_val(B))\n",
    "    print('Компетентность: ', make_val(C))\n",
    "    return make_val(B), make_val(C)"
   ]
  },
  {
   "cell_type": "code",
   "execution_count": 28,
   "id": "b98df177",
   "metadata": {
    "scrolled": true
   },
   "outputs": [
    {
     "name": "stdout",
     "output_type": "stream",
     "text": [
      "Обобщенные оценки:  [0.26821207 0.18386309 0.21621527 0.33170956]\n",
      "Компетентность:  [0.19829562 0.193934   0.23710756 0.21185808 0.15880474]\n"
     ]
    }
   ],
   "source": [
    "new_val, competence = exp_val(matrix)"
   ]
  },
  {
   "cell_type": "markdown",
   "id": "aff22b72",
   "metadata": {},
   "source": [
    "# Запись в файл"
   ]
  },
  {
   "cell_type": "code",
   "execution_count": 23,
   "id": "87222f4c",
   "metadata": {},
   "outputs": [],
   "source": [
    "file_name = 'results.txt'\n",
    "with open(file_name, 'w') as file:\n",
    "    file.write(f\"Обобщенные оценки:\\n\")\n",
    "    file.write(\" \".join(map(str, new_val)) + \"\\n\")\n",
    "    file.write(f\"Компетентность\\n\")\n",
    "    file.write(\" \".join(map(str, competence)) + \"\\n\")"
   ]
  },
  {
   "cell_type": "code",
   "execution_count": null,
   "id": "0a67fdc3",
   "metadata": {},
   "outputs": [],
   "source": []
  }
 ],
 "metadata": {
  "kernelspec": {
   "display_name": "Python 3 (ipykernel)",
   "language": "python",
   "name": "python3"
  },
  "language_info": {
   "codemirror_mode": {
    "name": "ipython",
    "version": 3
   },
   "file_extension": ".py",
   "mimetype": "text/x-python",
   "name": "python",
   "nbconvert_exporter": "python",
   "pygments_lexer": "ipython3",
   "version": "3.9.7"
  }
 },
 "nbformat": 4,
 "nbformat_minor": 5
}
